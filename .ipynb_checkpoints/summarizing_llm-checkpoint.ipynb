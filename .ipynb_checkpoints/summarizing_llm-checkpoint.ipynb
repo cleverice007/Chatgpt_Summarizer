{
 "cells": [
  {
   "cell_type": "code",
   "execution_count": 1,
   "metadata": {},
   "outputs": [],
   "source": [
    "from datetime import datetime\n",
    "import pandas as pd\n",
    "import numpy as np\n",
    "import json\n",
    "import os\n",
    "import matplotlib.pyplot as plt\n",
    "from scipy.spatial.distance import cosine\n",
    "import networkx as nx\n",
    "from networkx.algorithms import community\n",
    "\n",
    "from langchain import OpenAI\n",
    "from langchain.prompts import PromptTemplate\n",
    "from langchain.chains.llm import LLMChain\n",
    "from langchain.embeddings import OpenAIEmbeddings\n",
    "from langchain.docstore.document import Document\n",
    "from langchain.chains.summarize import load_summarize_chain\n",
    "\n",
    "os.environ[\"OPENAI_API_KEY\"] = 'YOUR API KEY HERE'"
   ]
  },
  {
   "cell_type": "code",
   "execution_count": 2,
   "metadata": {},
   "outputs": [],
   "source": [
    "# Load the txt file\n",
    "txt_path = 'stateoftheunion.txt'\n",
    "with open(txt_path, 'r') as f:\n",
    "  txt = f.read()"
   ]
  },
  {
   "cell_type": "code",
   "execution_count": 3,
   "metadata": {},
   "outputs": [],
   "source": [
    "# Get segments from txt by splitting on .\n",
    "segments =  txt.split('.')\n",
    "# Put the . back in\n",
    "segments = [segment + '.' for segment in segments]\n",
    "# Further split by comma\n",
    "segments = [segment.split(',') for segment in segments]\n",
    "# Flatten\n",
    "segments = [item for sublist in segments for item in sublist]"
   ]
  },
  {
   "cell_type": "code",
   "execution_count": 4,
   "metadata": {},
   "outputs": [],
   "source": [
    "def create_sentences(segments, MIN_WORDS, MAX_WORDS):\n",
    "\n",
    "  # Combine the non-sentences together\n",
    "  sentences = []\n",
    "\n",
    "  is_new_sentence = True\n",
    "  sentence_length = 0\n",
    "  sentence_num = 0\n",
    "  sentence_segments = []\n",
    "\n",
    "  for i in range(len(segments)):\n",
    "    if is_new_sentence == True:\n",
    "      is_new_sentence = False\n",
    "    # Append the segment\n",
    "    sentence_segments.append(segments[i])\n",
    "    segment_words = segments[i].split(' ')\n",
    "    sentence_length += len(segment_words)\n",
    "    \n",
    "    # If exceed MAX_WORDS, then stop at the end of the segment\n",
    "    # Only consider it a sentence if the length is at least MIN_WORDS\n",
    "    if (sentence_length >= MIN_WORDS and segments[i][-1] == '.') or sentence_length >= MAX_WORDS:\n",
    "      sentence = ' '.join(sentence_segments)\n",
    "      sentences.append({\n",
    "        'sentence_num': sentence_num,\n",
    "        'text': sentence,\n",
    "        'sentence_length': sentence_length\n",
    "      })\n",
    "      # Reset\n",
    "      is_new_sentence = True\n",
    "      sentence_length = 0\n",
    "      sentence_segments = []\n",
    "      sentence_num += 1\n",
    "\n",
    "  return sentences\n",
    "\n",
    "def create_chunks(sentences, CHUNK_LENGTH, STRIDE):\n",
    "\n",
    "  sentences_df = pd.DataFrame(sentences)\n",
    "  \n",
    "  chunks = []\n",
    "  for i in range(0, len(sentences_df), (CHUNK_LENGTH - STRIDE)):\n",
    "    chunk = sentences_df.iloc[i:i+CHUNK_LENGTH]\n",
    "    chunk_text = ' '.join(chunk['text'].tolist())\n",
    "    \n",
    "    chunks.append({\n",
    "      'start_sentence_num': chunk['sentence_num'].iloc[0],\n",
    "      'end_sentence_num': chunk['sentence_num'].iloc[-1],\n",
    "      'text': chunk_text,\n",
    "      'num_words': len(chunk_text.split(' '))\n",
    "    })\n",
    "    \n",
    "  chunks_df = pd.DataFrame(chunks)\n",
    "  return chunks_df.to_dict('records')\n",
    "\n",
    "def parse_title_summary_results(results):\n",
    "  out = []\n",
    "  for e in results:\n",
    "    e = e.replace('\\n', '')\n",
    "    if '|' in e:\n",
    "      processed = {'title': e.split('|')[0],\n",
    "                    'summary': e.split('|')[1][1:]\n",
    "                    }\n",
    "    elif ':' in e:\n",
    "      processed = {'title': e.split(':')[0],\n",
    "                    'summary': e.split(':')[1][1:]\n",
    "                    }\n",
    "    elif '-' in e:\n",
    "      processed = {'title': e.split('-')[0],\n",
    "                    'summary': e.split('-')[1][1:]\n",
    "                    }\n",
    "    else:\n",
    "      processed = {'title': '',\n",
    "                    'summary': e\n",
    "                    }\n",
    "    out.append(processed)\n",
    "  return out"
   ]
  },
  {
   "cell_type": "code",
   "execution_count": 5,
   "metadata": {},
   "outputs": [],
   "source": [
    "sentences = create_sentences(segments, MIN_WORDS=20, MAX_WORDS=80)\n",
    "chunks = create_chunks(sentences, CHUNK_LENGTH=5, STRIDE=1)\n",
    "chunks_text = [chunk['text'] for chunk in chunks]"
   ]
  },
  {
   "cell_type": "markdown",
   "metadata": {},
   "source": [
    "### Stage 1: Getting Chunk Summaries"
   ]
  },
  {
   "cell_type": "code",
   "execution_count": 9,
   "metadata": {},
   "outputs": [],
   "source": [
    "def summarize_stage_1(chunks_text):\n",
    "  \n",
    "  print(f'Start time: {datetime.now()}')\n",
    "\n",
    "  # Prompt to get title and summary for each chunk\n",
    "  map_prompt_template = \"\"\"Firstly, give the following text an informative title. Then, on a new line, write a 75-100 word summary of the following text:\n",
    "  {text}\n",
    "\n",
    "  Return your answer in the following format:\n",
    "  Title | Summary...\n",
    "  e.g. \n",
    "  Why Artificial Intelligence is Good | AI can make humans more productive by automating many repetitive processes.\n",
    "\n",
    "  TITLE AND CONCISE SUMMARY:\"\"\"\n",
    "\n",
    "  map_prompt = PromptTemplate(template=map_prompt_template, input_variables=[\"text\"])\n",
    "\n",
    "  # Define the LLMs\n",
    "  map_llm = OpenAI(temperature=0, model_name = 'text-davinci-003')\n",
    "  map_llm_chain = LLMChain(llm = map_llm, prompt = map_prompt)\n",
    "  map_llm_chain_input = [{'text': t} for t in chunks_text]\n",
    "  # Run the input through the LLM chain (works in parallel)\n",
    "  map_llm_chain_results = map_llm_chain.apply(map_llm_chain_input)\n",
    "\n",
    "  stage_1_outputs = parse_title_summary_results([e['text'] for e in map_llm_chain_results])\n",
    "\n",
    "  print(f'Stage 1 done time {datetime.now()}')\n",
    "\n",
    "  return {\n",
    "    'stage_1_outputs': stage_1_outputs\n",
    "  }"
   ]
  },
  {
   "cell_type": "code",
   "execution_count": 10,
   "metadata": {},
   "outputs": [
    {
     "name": "stdout",
     "output_type": "stream",
     "text": [
      "Start time: 2023-05-01 19:11:34.837911\n",
      "Stage 1 done time 2023-05-01 19:11:55.372700\n"
     ]
    }
   ],
   "source": [
    "# Run Stage 1 Summarizing\n",
    "stage_1_outputs = summarize_stage_1(chunks_text)['stage_1_outputs']\n",
    "# Split the titles and summaries\n",
    "stage_1_summaries = [e['summary'] for e in stage_1_outputs]\n",
    "stage_1_titles = [e['title'] for e in stage_1_outputs]\n",
    "num_1_chunks = len(stage_1_summaries)"
   ]
  },
  {
   "cell_type": "code",
   "execution_count": 11,
   "metadata": {},
   "outputs": [],
   "source": [
    "# Use OpenAI to embed the summaries and titles. Size of _embeds: (num_chunks x 1536)\n",
    "openai_embed = OpenAIEmbeddings()\n",
    "\n",
    "summary_embeds = np.array(openai_embed.embed_documents(stage_1_summaries))\n",
    "title_embeds = np.array(openai_embed.embed_documents(stage_1_titles))"
   ]
  },
  {
   "cell_type": "code",
   "execution_count": 12,
   "metadata": {},
   "outputs": [],
   "source": [
    "# Get similarity matrix between the embeddings of the chunk summaries\n",
    "summary_similarity_matrix = np.zeros((num_1_chunks, num_1_chunks))\n",
    "summary_similarity_matrix[:] = np.nan\n",
    "\n",
    "for row in range(num_1_chunks):\n",
    "  for col in range(row, num_1_chunks):\n",
    "    # Calculate cosine similarity between the two vectors\n",
    "    similarity = 1- cosine(summary_embeds[row], summary_embeds[col])\n",
    "    summary_similarity_matrix[row, col] = similarity\n",
    "    summary_similarity_matrix[col, row] = similarity"
   ]
  },
  {
   "cell_type": "code",
   "execution_count": 13,
   "metadata": {},
   "outputs": [
    {
     "data": {
      "text/plain": [
       "<matplotlib.image.AxesImage at 0x7f09e2349820>"
      ]
     },
     "execution_count": 13,
     "metadata": {},
     "output_type": "execute_result"
    },
    {
     "data": {
      "image/png": "[encoded data removed]",
      "text/plain": [
       "<Figure size 640x480 with 1 Axes>"
      ]
     },
     "metadata": {},
     "output_type": "display_data"
    }
   ],
   "source": [
    "# Draw a heatmap with the summary_similarity_matrix\n",
    "plt.figure()\n",
    "# Color scheme blues\n",
    "plt.imshow(summary_similarity_matrix, cmap = 'Blues')"
   ]
  },
  {
   "cell_type": "code",
   "execution_count": 14,
   "metadata": {},
   "outputs": [],
   "source": [
    "# Run the community detection algorithm\n",
    "\n",
    "def get_topics(title_similarity, num_topics = 8, bonus_constant = 0.25, min_size = 3):\n",
    "\n",
    "  proximity_bonus_arr = np.zeros_like(title_similarity)\n",
    "  for row in range(proximity_bonus_arr.shape[0]):\n",
    "    for col in range(proximity_bonus_arr.shape[1]):\n",
    "      if row == col:\n",
    "        proximity_bonus_arr[row, col] = 0\n",
    "      else:\n",
    "        proximity_bonus_arr[row, col] = 1/(abs(row-col)) * bonus_constant\n",
    "        \n",
    "  title_similarity += proximity_bonus_arr\n",
    "\n",
    "  title_nx_graph = nx.from_numpy_array(title_similarity)\n",
    "\n",
    "  desired_num_topics = num_topics\n",
    "  # Store the accepted partitionings\n",
    "  topics_title_accepted = []\n",
    "\n",
    "  resolution = 0.85\n",
    "  resolution_step = 0.01\n",
    "  iterations = 40\n",
    "\n",
    "  # Find the resolution that gives the desired number of topics\n",
    "  topics_title = []\n",
    "  while len(topics_title) not in [desired_num_topics, desired_num_topics + 1, desired_num_topics + 2]:\n",
    "    topics_title = community.louvain_communities(title_nx_graph, weight = 'weight', resolution = resolution)\n",
    "    resolution += resolution_step\n",
    "  topic_sizes = [len(c) for c in topics_title]\n",
    "  sizes_sd = np.std(topic_sizes)\n",
    "  modularity = community.modularity(title_nx_graph, topics_title, weight = 'weight', resolution = resolution)\n",
    "\n",
    "  lowest_sd_iteration = 0\n",
    "  # Set lowest sd to inf\n",
    "  lowest_sd = float('inf')\n",
    "\n",
    "  for i in range(iterations):\n",
    "    topics_title = community.louvain_communities(title_nx_graph, weight = 'weight', resolution = resolution)\n",
    "    modularity = community.modularity(title_nx_graph, topics_title, weight = 'weight', resolution = resolution)\n",
    "    \n",
    "    # Check SD\n",
    "    topic_sizes = [len(c) for c in topics_title]\n",
    "    sizes_sd = np.std(topic_sizes)\n",
    "    \n",
    "    topics_title_accepted.append(topics_title)\n",
    "    \n",
    "    if sizes_sd < lowest_sd and min(topic_sizes) >= min_size:\n",
    "      lowest_sd_iteration = i\n",
    "      lowest_sd = sizes_sd\n",
    "      \n",
    "  # Set the chosen partitioning to be the one with highest modularity\n",
    "  topics_title = topics_title_accepted[lowest_sd_iteration]\n",
    "  print(f'Best SD: {lowest_sd}, Best iteration: {lowest_sd_iteration}')\n",
    "  \n",
    "  topic_id_means = [sum(e)/len(e) for e in topics_title]\n",
    "  # Arrange title_topics in order of topic_id_means\n",
    "  topics_title = [list(c) for _, c in sorted(zip(topic_id_means, topics_title), key = lambda pair: pair[0])]\n",
    "  # Create an array denoting which topic each chunk belongs to\n",
    "  chunk_topics = [None] * title_similarity.shape[0]\n",
    "  for i, c in enumerate(topics_title):\n",
    "    for j in c:\n",
    "      chunk_topics[j] = i\n",
    "            \n",
    "  return {\n",
    "    'chunk_topics': chunk_topics,\n",
    "    'topics': topics_title\n",
    "    }"
   ]
  },
  {
   "cell_type": "code",
   "execution_count": 15,
   "metadata": {},
   "outputs": [
    {
     "name": "stdout",
     "output_type": "stream",
     "text": [
      "Best SD: 1.4317821063276353, Best iteration: 7\n"
     ]
    }
   ],
   "source": [
    "# Set num_topics to be 1/4 of the number of chunks, or 8, which ever is smaller\n",
    "num_topics = min(int(num_1_chunks / 4), 8)\n",
    "topics_out = get_topics(summary_similarity_matrix, num_topics = num_topics, bonus_constant = 0.2)\n",
    "chunk_topics = topics_out['chunk_topics']\n",
    "topics = topics_out['topics']"
   ]
  },
  {
   "cell_type": "code",
   "execution_count": 16,
   "metadata": {},
   "outputs": [
    {
     "data": {
      "image/png": "[encoded data removed]",
      "text/plain": [
       "<Figure size 1000x400 with 1 Axes>"
      ]
     },
     "metadata": {},
     "output_type": "display_data"
    }
   ],
   "source": [
    "# Plot a heatmap of this array\n",
    "plt.figure(figsize = (10, 4))\n",
    "plt.imshow(np.array(chunk_topics).reshape(1, -1), cmap = 'tab20')\n",
    "# Draw vertical black lines for every 1 of the x-axis \n",
    "for i in range(1, len(chunk_topics)):\n",
    "  plt.axvline(x = i - 0.5, color = 'black', linewidth = 0.5)"
   ]
  },
  {
   "cell_type": "markdown",
   "metadata": {},
   "source": [
    "### Stage 2 Summaries"
   ]
  },
  {
   "cell_type": "code",
   "execution_count": 17,
   "metadata": {},
   "outputs": [],
   "source": [
    "def summarize_stage_2(stage_1_outputs, topics, summary_num_words = 250):\n",
    "  print(f'Stage 2 start time {datetime.now()}')\n",
    "  \n",
    "  # Prompt that passes in all the titles of a topic, and asks for an overall title of the topic\n",
    "  title_prompt_template = \"\"\"Write an informative title that summarizes each of the following groups of titles. Make sure that the titles capture as much information as possible, \n",
    "  and are different from each other:\n",
    "  {text}\n",
    "  \n",
    "  Return your answer in a numbered list, with new line separating each title: \n",
    "  1. Title 1\n",
    "  2. Title 2\n",
    "  3. Title 3\n",
    "\n",
    "  TITLES:\n",
    "  \"\"\"\n",
    "\n",
    "  map_prompt_template = \"\"\"Wite a 75-100 word summary of the following text:\n",
    "    {text}\n",
    "\n",
    "    CONCISE SUMMARY:\"\"\"\n",
    "\n",
    "  combine_prompt_template = 'Write a ' + str(summary_num_words) + \"\"\"-word summary of the following, removing irrelevant information. Finish your answer:\n",
    "  {text}\n",
    "  \"\"\" + str(summary_num_words) + \"\"\"-WORD SUMMARY:\"\"\"\n",
    "\n",
    "  title_prompt = PromptTemplate(template=title_prompt_template, input_variables=[\"text\"])\n",
    "  map_prompt = PromptTemplate(template=map_prompt_template, input_variables=[\"text\"])\n",
    "  combine_prompt = PromptTemplate(template=combine_prompt_template, input_variables=[\"text\"])\n",
    "\n",
    "  topics_data = []\n",
    "  for c in topics:\n",
    "    topic_data = {\n",
    "      'summaries': [stage_1_outputs[chunk_id]['summary'] for chunk_id in c],\n",
    "      'titles': [stage_1_outputs[chunk_id]['title'] for chunk_id in c]\n",
    "    }\n",
    "    topic_data['summaries_concat'] = ' '.join(topic_data['summaries'])\n",
    "    topic_data['titles_concat'] = ', '.join(topic_data['titles'])\n",
    "    topics_data.append(topic_data)\n",
    "    \n",
    "  # Get a list of each community's summaries (concatenated)\n",
    "  topics_summary_concat = [c['summaries_concat'] for c in topics_data]\n",
    "  topics_titles_concat = [c['titles_concat'] for c in topics_data]\n",
    "\n",
    "  # Concat into one long string to do the topic title creation\n",
    "  topics_titles_concat_all = ''''''\n",
    "  for i, c in enumerate(topics_titles_concat):\n",
    "    topics_titles_concat_all += f'''{i+1}. {c}\n",
    "    '''\n",
    "  \n",
    "  # print('topics_titles_concat_all', topics_titles_concat_all)\n",
    "\n",
    "  title_llm = OpenAI(temperature=0, model_name = 'text-davinci-003')\n",
    "  title_llm_chain = LLMChain(llm = title_llm, prompt = title_prompt)\n",
    "  title_llm_chain_input = [{'text': topics_titles_concat_all}]\n",
    "  title_llm_chain_results = title_llm_chain.apply(title_llm_chain_input)\n",
    "  \n",
    "  \n",
    "  # Split by new line\n",
    "  titles = title_llm_chain_results[0]['text'].split('\\n')\n",
    "  # Remove any empty titles\n",
    "  titles = [t for t in titles if t != '']\n",
    "  # Remove spaces at start or end of each title\n",
    "  titles = [t.strip() for t in titles]\n",
    "\n",
    "  map_llm = OpenAI(temperature=0, model_name = 'text-davinci-003')\n",
    "  reduce_llm = OpenAI(temperature=0, model_name = 'text-davinci-003', max_tokens = -1)\n",
    "\n",
    "  # Run the map-reduce chain\n",
    "  docs = [Document(page_content=t) for t in topics_summary_concat]\n",
    "  chain = load_summarize_chain(chain_type=\"map_reduce\", map_prompt = map_prompt, combine_prompt = combine_prompt, return_intermediate_steps = True,\n",
    "                              llm = map_llm, reduce_llm = reduce_llm)\n",
    "\n",
    "  output = chain({\"input_documents\": docs}, return_only_outputs = True)\n",
    "  summaries = output['intermediate_steps']\n",
    "  stage_2_outputs = [{'title': t, 'summary': s} for t, s in zip(titles, summaries)]\n",
    "  final_summary = output['output_text']\n",
    "\n",
    "  # Return: stage_1_outputs (title and summary), stage_2_outputs (title and summary), final_summary, chunk_allocations\n",
    "  out = {\n",
    "    'stage_2_outputs': stage_2_outputs,\n",
    "    'final_summary': final_summary\n",
    "  }\n",
    "  print(f'Stage 2 done time {datetime.now()}')\n",
    "  \n",
    "  return out"
   ]
  },
  {
   "cell_type": "code",
   "execution_count": 18,
   "metadata": {},
   "outputs": [
    {
     "name": "stdout",
     "output_type": "stream",
     "text": [
      "Stage 2 start time 2023-05-01 19:12:23.277637\n",
      "Stage 2 done time 2023-05-01 19:12:43.258555\n"
     ]
    }
   ],
   "source": [
    "# Query GPT-3 to get a summarized title for each topic_data\n",
    "out = summarize_stage_2(stage_1_outputs, topics, summary_num_words = 250)\n",
    "stage_2_outputs = out['stage_2_outputs']\n",
    "stage_2_titles = [e['title'] for e in stage_2_outputs]\n",
    "stage_2_summaries = [e['summary'] for e in stage_2_outputs]\n",
    "final_summary = out['final_summary']"
   ]
  },
  {
   "cell_type": "code",
   "execution_count": 20,
   "metadata": {},
   "outputs": [
    {
     "data": {
      "text/plain": [
       "[{'title': '1. Celebrating American Progress and Resilience',\n",
       "  'summary': ' President Biden congratulates the members of the 118th Congress, including the new Speaker of the House, Kevin McCarthy, and the new House Minority Leader, Hakeem Jeffries. He celebrates the progress and resilience of the US, which has created 12 million new jobs in two years. He discusses how Democrats and Republicans have come together to pass significant laws, and outlines the goal of restoring the soul of the nation and rebuilding the middle class. He emphasizes the importance of jobs for providing dignity, respect, and security to individuals and families.'},\n",
       " {'title': '2. US Economy Strengthening and Inflation Reduction',\n",
       "  'summary': \" In the last two years, America has seen a record 10 million Americans apply to start a new small business, and inflation has decreased while take home pay has increased. The CHIPS and Science Act has created 800,000 manufacturing jobs and is expected to create hundreds of thousands more. Intel is investing $300 billion in American manufacturing, creating 10,000 jobs in Ohio. The Bipartisan Infrastructure Law is the largest investment in infrastructure since President Eisenhower's Interstate Highway System, and President Biden is investing in infrastructure projects to replace lead pipes and provide access to high-speed internet.\"},\n",
       " {'title': '3. Inflation Reduction Act: Lowering Health Care Costs',\n",
       "  'summary': ' The Inflation Reduction Act, signed into law last year, is saving millions of people $800 a year on their premiums and is set to expire in 2025. It also caps out-of-pocket drug costs for seniors on Medicare at a maximum of $2,000 per year and caps the cost of insulin at $35 a month for all Americans. President Obama is advocating for the Act, which would give Medicare the power to negotiate drug prices and save taxpayers hundreds of billions of dollars. Additionally, it is making a significant investment to tackle the climate crisis, lower utility bills, create American jobs, and lead the world to a clean energy future.'},\n",
       " {'title': '4. Confronting an Existential Threat: Making Big Corporations Pay',\n",
       "  'summary': \" President Biden is taking steps to confront the climate crisis by investing in clean energy, electric vehicle charging stations, and conservation efforts. He has proposed a plan to ensure that no one earning less than $400,000 a year will pay an additional penny in taxes, while also introducing a minimum tax rate of 15% for billion-dollar companies. Congress has responded to the debt crisis by lifting the debt ceiling three times without preconditions, and by paying America's bills to prevent economic disaster.\"},\n",
       " {'title': '5. Junk Fee Prevention Act: Stopping Unfair Charges',\n",
       "  'summary': \" The Junk Fee Prevention Act is proposed to protect workers from unfair fees and restore the dignity of work. President Biden's plan to reduce child poverty and increase economic growth includes restoring the full Child Tax Credit, providing access to affordable and quality housing, and making education an affordable ticket to the middle class. The Junk Fee Prevention Act will ban surprise resort fees, cap service fees on tickets, and prohibit airlines from charging families to sit together, in order to stop companies from overcharging customers.\"},\n",
       " {'title': '6. COVID-19 Resilience and Vigilance',\n",
       "  'summary': ' Investing in education is essential for the 21st century, and Congress needs to fund efforts to monitor variants and support new vaccines and treatments to keep America safe. The President is also tripling anti-fraud strike forces and doubling the statute of limitations on these crimes to crack down on identity fraud.'},\n",
       " {'title': '7. Fighting Fraud and Public Safety',\n",
       "  'summary': ' The parents of Tyre Nichols, who was killed by law enforcement, discuss the heartbreak of losing a child and the fear of Black and Brown families. President Signs Executive Order Banning Chokeholds and Restricting No-Knock Warrants in support of families of victims, civil rights groups, and law enforcement. Former President Bill Clinton calls for a ban on assault weapons and for bipartisan action on immigration. All must come together to achieve a common goal of safe neighborhoods and trust in law enforcement.'},\n",
       " {'title': \"8. United States' Support for Ukraine and Global Peace\",\n",
       "  'summary': \" One year after Vladimir Putin's invasion of Ukraine, the US has led the way in uniting NATO and building a global coalition to stand against his aggression. President Biden is committed to competing with China, investing in American innovation, and modernizing the military. He is also taking action to protect every woman's constitutional right to choose, vetoing any national abortion ban, and passing the Equality Act. Additionally, he is taking a stand against Putin's war against Ukraine.\"},\n",
       " {'title': '9. Progress Made in Healthcare and Gun Safety',\n",
       "  'summary': \" This text discusses the importance of improving healthcare and gun safety, as well as providing job training and mental health screenings to prevent veteran suicide. It also mentions the Cancer Moonshot, a goal to reduce the cancer death rate by 50% in the next 25 years, and the story of a couple's daughter who was diagnosed with a rare kidney cancer and is now on her way to being cancer free. President Bush's PEPFAR initiative has inspired the world to strive to end cancer.\"},\n",
       " {'title': '10. United States of America: A Bright Future',\n",
       "  'summary': ' In a call to remember the values of the United States and the strength of its people, the speaker of the House of Representatives highlights the importance of democracy and condemns political violence. This is a moment to decide the course of the nation and the world, and it is up to us to be optimistic, hopeful, and unified. We must embrace light over darkness, hope over fear, and unity over division.'}]"
      ]
     },
     "execution_count": 20,
     "metadata": {},
     "output_type": "execute_result"
    }
   ],
   "source": [
    "stage_2_outputs"
   ]
  },
  {
   "cell_type": "code",
   "execution_count": 19,
   "metadata": {},
   "outputs": [
    {
     "data": {
      "text/plain": [
       "\"\\n\\nPresident Biden has congratulated the members of the 118th Congress, including the new Speaker of the House, Kevin McCarthy, and the new House Minority Leader, Hakeem Jeffries. He has celebrated the progress and resilience of the US, which has created 12 million new jobs in two years. Democrats and Republicans have come together to pass significant laws, with the goal of restoring the soul of the nation and rebuilding the middle class. The Inflation Reduction Act is saving millions of people $800 a year on their premiums, and the Bipartisan Infrastructure Law is the largest investment in infrastructure since President Eisenhower's Interstate Highway System. President Biden is also investing in clean energy, electric vehicle charging stations, and conservation efforts. The Junk Fee Prevention Act is proposed to protect workers from unfair fees, and the President is taking steps to reduce child poverty and increase economic growth. He is also advocating for the Act, which would give Medicare the power to negotiate drug prices. Additionally, he is taking a stand against Putin's war against Ukraine and is committed to competing with China. Finally, he is calling for a ban on assault weapons and for bipartisan action on immigration, and for us to embrace light over darkness, hope over fear, and unity over division.\""
      ]
     },
     "execution_count": 19,
     "metadata": {},
     "output_type": "execute_result"
    }
   ],
   "source": [
    "final_summary"
   ]
  }
 ],
 "metadata": {
  "kernelspec": {
   "display_name": "Python 3.9.13 ('fastapi_env': venv)",
   "language": "python",
   "name": "python3"
  },
  "language_info": {
   "codemirror_mode": {
    "name": "ipython",
    "version": 3
   },
   "file_extension": ".py",
   "mimetype": "text/x-python",
   "name": "python",
   "nbconvert_exporter": "python",
   "pygments_lexer": "ipython3",
   "version": "3.9.13"
  },
  "orig_nbformat": 4,
  "vscode": {
   "interpreter": {
    "hash": "d228f8d1b134e326a52396b2016d42a4e7c84199cf5eb27412c1836171e03131"
   }
  }
 },
 "nbformat": 4,
 "nbformat_minor": 2
}
