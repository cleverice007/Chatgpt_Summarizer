{
 "cells": [
  {
   "cell_type": "code",
   "execution_count": 6,
   "id": "4ed5a349",
   "metadata": {},
   "outputs": [
    {
     "data": {
      "text/plain": [
       "True"
      ]
     },
     "execution_count": 6,
     "metadata": {},
     "output_type": "execute_result"
    }
   ],
   "source": [
    "import dotenv\n",
    "dotenv.load_dotenv('chatgpt.env')"
   ]
  },
  {
   "cell_type": "code",
   "execution_count": 7,
   "id": "a584a188",
   "metadata": {},
   "outputs": [],
   "source": [
    "import os\n",
    "import openai\n",
    "\n",
    "folder_path = \"/Users/yanyuming/Documents/GitHub/Chatgpt_Summarizer\"\n",
    "os.chdir(folder_path)"
   ]
  },
  {
   "cell_type": "code",
   "execution_count": 8,
   "id": "8a38dd05",
   "metadata": {},
   "outputs": [],
   "source": [
    "from dotenv import load_dotenv\n",
    "import os\n",
    "\n",
    "# 載入 .env 檔案中的環境變數\n",
    "load_dotenv()\n",
    "\n",
    "# 從環境變數中讀取 API 密鑰\n",
    "api_key = os.getenv('OPENAI_API_KEY')\n",
    "\n",
    "# 確認 API 密鑰是否存在\n",
    "if api_key:\n",
    "    # 在這裡使用 API 密鑰進行 OpenAI 操作\n",
    "    pass\n",
    "else:\n",
    "    # 在找不到 API 密鑰時處理錯誤\n",
    "    raise ValueError(\"API key not found. Make sure it is set in the .env file.\")\n"
   ]
  },
  {
   "cell_type": "code",
   "execution_count": 10,
   "id": "b899e45f",
   "metadata": {},
   "outputs": [],
   "source": [
    "\n",
    "#audio_file= open(\"Porsche (with Doug DeMuro).mp3\", \"rb\")\n",
    "#transcript = openai.Audio.transcribe(\"whisper-1\", audio_file)\n",
    "\n",
    "from pydub import AudioSegment\n",
    "\n",
    "sound = AudioSegment.from_mp3(\"Porsche (with Doug DeMuro).mp3\")\n",
    "\n",
    "# PyDub handles time in milliseconds\n",
    "ten_minutes = 10 * 60 * 1000\n",
    "\n",
    "#將音檔分割成多個檔案\n",
    "\n",
    "for i,chunk in enumerate(sound[::ten_minutes]):\n",
    "    with open(\"Porsche (with Doug DeMuro)\"+str(i)+\".mp3\", \"wb\") as f:\n",
    "        chunk.export(f, format=\"mp3\")\n"
   ]
  },
  {
   "cell_type": "code",
   "execution_count": 11,
   "id": "93a5fd37",
   "metadata": {},
   "outputs": [
    {
     "name": "stdout",
     "output_type": "stream",
     "text": [
      "{\n",
      "  \"text\": \"It's definitely Porsche. Porsche. Porsche. Yeah, definitely don't say Porsche. Definitely don't say Porsche. The family says it more like, because I met one of them at one point, they say it more like, not like Porsche, but more like Porsche. But it's hard, I think it's a German thing, and I think it's difficult to, but so we all say Porsche, Porsche. If you say Porsche with a German accent, it comes out like Porsche. Yeah. So I think it's almost like. Porsche, yeah. Yeah, we will. Yeah, that's probably exactly what it is. \\u266a Who got the truth? \\u266a \\u266a Is it you, is it you, is it you? \\u266a \\u266a Who got the truth now? \\u266a \\u266a Is it you, is it you, is it you? \\u266a \\u266a Sit me down, say it straight, another story on the way. \\u266a \\u266a Who got the truth? \\u266a Welcome to season 12, episode six of Acquired, the podcast about great technology companies and the stories and playbooks behind them. I'm Ben Gilbert. I'm David Rosenthal. And we are your hosts. Today, we tell the story of Porsche. If you liked our LVMH episode, you are gonna love this one. And not just because it's a European luxury brand, there is possibly even more family drama, creeping takeovers, and complex corporate structures at play. But why is Porsche, the brand and the product, so special? The company has struck an incredible balance of both building some of the world's finest supercars, while also being a great daily driver, unlike, say, a Ferrari or a Lamborghini. Of course, these are expensive daily drivers, with the average Porsche costing $110,000. But they have managed to nail being a prestige brand with pricing power and make a ton of cars at $350,000 per year. Today, we'll study how they cultivated such a vibrant community, which, conveniently for them, is comprised of extremely wealthy people. But it has not always been this way, and it certainly didn't start this way. Today's story has Nazis, tanks, the first electric vehicles, and, like most luxury brands, some misadventures in the 1980s. Oh, yes. And if you like quirks and features, you're gonna be pumped about our partner in crime to help us tell this story, Doug DiMiro. Doug is one of David and my favorite YouTubers and content entrepreneurs. He operates the largest independent YouTube channel focused on car reviews with millions of subscribers. He also used to work at Porsche Corporate and is about as big of an enthusiast of the brand as you'll find anywhere. In fact, we are filming this episode now sitting in his garage in front of a very special Porsche, Doug's Carrera GT. Welcome to Acquired, Doug. Thank you for having me. It's wonderful to have you here. Well, listeners, if you wanna know every time an episode drops, sign up for email updates at acquired.fm. Join the Slack. We'll be talking about it after this episode, acquired.fm slash Slack. And without further ado, David, take us in. And listeners, this is not investment advice. David and I and Doug may have investments in the companies we discuss, and this show is for informational and entertainment purposes only. To set the stage a little bit, I think that even though it's a marketing phrase, the German engineering thing, it's worth sharing a little bit of history because it is more than just a marketing phrase. Right. There's a pretty long and incredible history of science and engineering in Germany and Austria. It goes all the way back to the scientific revolution and Johannes Kepler. And actually, before World War II, Germany had produced more Nobel laureates in scientific fields than any other nation in the world. Folks like Max Planck, Erwin Schr\\u00f6dinger, Kurt Godel, and Albert Einstein. These are all German and Austrian scientists. And this tradition extends also, of course, to the auto industry. So it is very likely that the first gas-powered transportation vehicle, this looked more like a tricycle than a car, but predecessor of a car, was created by a German inventor in 1864 named Siegfried Marcus. And I say probably because nobody really knows because Marcus was Jewish and the Nazis destroyed all records related to him during the war. We're gonna talk a lot about the Nazis here in a minute. Either way though, Germany definitely did create the first successful production consumer automobile. It was a vehicle called the Benz Patent Motorwagen. And that was made in 1885 by Carl Benz. I recognize that name, Benz. Indeed, you probably do, as do most listeners. Now, around the same time, another German inventor named Gottlieb Daimler sets up his own motor company. And then in the early 1900s, they have a model that they're producing, goes on to be quite popular, is named after the daughter of one of their biggest dealers in their dealer network. Of course, we are talking about Mercedes. I had no idea. That's where the Mercedes name came from. Yeah, crazy. So Benz and Daimler end up merging in 1924, and thus Mercedes-Benz is born. But okay, you might be asking, what does this have to do with Porsche? Well, turns out quite a lot. Because in 1906, Daimler scores a pretty big win in this fledgling German auto industry when they recruit the current potting prize winner. The potting prize was for Austria's Automotive Engineer of the Year to come be their new chief engineer at Daimler, one Dr. Ingenieur Honoris Causa Ferdinand Porsche. Now, the whole Dr. Ingenieur Honoris Causa thing, it's a bit of a red herring, although Porsche, the person, and the company would make quite a big deal about it. The dude never even finished college, let alone got a PhD. It was an honorary degree that he got later in life. Wait, the Dr. Porsche is like Dr. like the Seuss doctor? Well, he had an honorary doctorate. He was already doing stuff, though. He was engineering and creating. Yes. Hence the honorary doctorate. Yes, nonetheless, he definitely was a badass engineer, and we're gonna talk about all of the things, the amazing things that this guy creates. But we also gotta state this up front, and this is as good a place as any, Ferdinand Porsche and many other folks in the family and in the early Porsche and Volkswagen, as we will see days, were also huge Nazis. And Ferdinand himself not just was a Nazi, but was a very close personal associate of Adolf Hitler. He was a member of the SS, and we're gonna glorify him and many of these other folks here of their business and engineering contributions, but that doesn't mean that these are good people, so keep that in mind. Yeah, this isn't like one of those people that you hear, oh, well, you know, at that point in time, the Nazis were so big and powerful, they kinda just got, you know, coerced, or they collaborated. It's like, no, this dude was a real big Nazi. Yeah, he was definitely a Nazi. So when Ferdinand takes this new post as the head of engineering at Daimler, he moves his family from Austria, where he was the potting prize winner, to Stuttgart in Germany. And Doug, you probably have some more context on this, but Stuttgart is basically like the Detroit of the German auto industry. And it certainly has become more that way since Porsche was, as we'll get to, because Mercedes-Benz is there, and it really does feel like, yeah, a manufacturing cradle, especially for cars. Yeah, and I think it's not even, much like Detroit, it's not even just the car companies, but all the suppliers and the subcontractors. Everybody you meet in Stuttgart, just like when you go to Detroit, works for Porsche or Mercedes-Benz or a supplier or something like that. It is like the industry town. So Porsche Ferdinand, it's not a short period of time. It's two decades that he is running the engineering and the car design for Mercedes-Benz. While he is there, towards the end of his time, kind of as we're getting into the lead up to World War II, he comes up with a concept. He thinks that he can produce a small, affordable car that can really become the first German and European mass market automobile. Now, back in the US, there was the Model T and Henry Ford, that existed. But Ferdinand's vision is a small car. The Model T was a large car, like a modern, small automobile that Germans everywhere can buy. Which was important because in Germany in that time, car ownership was not anywhere near as big as it was in the United States. Apparently only 2% of Germans owned a car versus 30% of Americans by the 1930s. And so mobilizing Germans was not something that had happened in mass at that point. So this really was a challenge to build a car that could be affordable enough for the average German person to buy it. And indeed, it was a challenge because the board of Daimler-Benz rejects it. They're like, no, we can't do this. We make expensive cars for wealthy people. Right. They get into a huge fight over this and Ferdinand ends up leaving the company pretty acrimoniously in 1929. So much so that like, and Doug, you've worked at Porsche, you have contact. Like I think to this day, the rivalry between Mercedes-Benz and Porsche, like there's some bad blood there. It heats up and it cools down. And there's more to discuss on that in the future for sure. But they ultimately do share that town too. So like there's rivalry, but like they're also, you know, you have beers with them. You can't avoid hanging out with Mercedes-Benz employees also. Love it. So once he leaves, Ferdinand bumps around for a little while and then in.\"\n",
      "}\n"
     ]
    }
   ],
   "source": [
    "# 讀取音訊文件\n",
    "api_key = os.environ.get(\"OPENAI_API_KEY\")\n",
    "openai.api_key = api_key\n",
    "\n",
    "# 讀取音訊檔案\n",
    "audio_file = open(\"Porsche (with Doug DeMuro)0.mp3\", \"rb\")\n",
    "\n",
    "# 使用 API 金鑰進行轉錄\n",
    "transcript = openai.Audio.transcribe(\"whisper-1\", audio_file)\n",
    "\n",
    "# 處理轉錄結果\n",
    "print(transcript)"
   ]
  },
  {
   "cell_type": "code",
   "execution_count": 14,
   "id": "5a497167",
   "metadata": {},
   "outputs": [
    {
     "data": {
      "text/plain": [
       "\"It's definitely Porsche. Porsche. Porsche. Yeah, definitely don't say Porsche. Definitely don't say Porsche. The family says it more like, because I met one of them at one point, they say it more like, not like Porsche, but more like Porsche. But it's hard, I think it's a German thing, and I think it's difficult to, but so we all say Porsche, Porsche. If you say Porsche with a German accent, it comes out like Porsche. Yeah. So I think it's almost like. Porsche, yeah. Yeah, we will. Yeah, that's probably exactly what it is. ♪ Who got the truth? ♪ ♪ Is it you, is it you, is it you? ♪ ♪ Who got the truth now? ♪ ♪ Is it you, is it you, is it you? ♪ ♪ Sit me down, say it straight, another story on the way. ♪ ♪ Who got the truth? ♪ Welcome to season 12, episode six of Acquired, the podcast about great technology companies and the stories and playbooks behind them. I'm Ben Gilbert. I'm David Rosenthal. And we are your hosts. Today, we tell the story of Porsche. If you liked our LVMH episode, you are gonna love this one. And not just because it's a European luxury brand, there is possibly even more family drama, creeping takeovers, and complex corporate structures at play. But why is Porsche, the brand and the product, so special? The company has struck an incredible balance of both building some of the world's finest supercars, while also being a great daily driver, unlike, say, a Ferrari or a Lamborghini. Of course, these are expensive daily drivers, with the average Porsche costing $110,000. But they have managed to nail being a prestige brand with pricing power and make a ton of cars at $350,000 per year. Today, we'll study how they cultivated such a vibrant community, which, conveniently for them, is comprised of extremely wealthy people. But it has not always been this way, and it certainly didn't start this way. Today's story has Nazis, tanks, the first electric vehicles, and, like most luxury brands, some misadventures in the 1980s. Oh, yes. And if you like quirks and features, you're gonna be pumped about our partner in crime to help us tell this story, Doug DiMiro. Doug is one of David and my favorite YouTubers and content entrepreneurs. He operates the largest independent YouTube channel focused on car reviews with millions of subscribers. He also used to work at Porsche Corporate and is about as big of an enthusiast of the brand as you'll find anywhere. In fact, we are filming this episode now sitting in his garage in front of a very special Porsche, Doug's Carrera GT. Welcome to Acquired, Doug. Thank you for having me. It's wonderful to have you here. Well, listeners, if you wanna know every time an episode drops, sign up for email updates at acquired.fm. Join the Slack. We'll be talking about it after this episode, acquired.fm slash Slack. And without further ado, David, take us in. And listeners, this is not investment advice. David and I and Doug may have investments in the companies we discuss, and this show is for informational and entertainment purposes only. To set the stage a little bit, I think that even though it's a marketing phrase, the German engineering thing, it's worth sharing a little bit of history because it is more than just a marketing phrase. Right. There's a pretty long and incredible history of science and engineering in Germany and Austria. It goes all the way back to the scientific revolution and Johannes Kepler. And actually, before World War II, Germany had produced more Nobel laureates in scientific fields than any other nation in the world. Folks like Max Planck, Erwin Schrödinger, Kurt Godel, and Albert Einstein. These are all German and Austrian scientists. And this tradition extends also, of course, to the auto industry. So it is very likely that the first gas-powered transportation vehicle, this looked more like a tricycle than a car, but predecessor of a car, was created by a German inventor in 1864 named Siegfried Marcus. And I say probably because nobody really knows because Marcus was Jewish and the Nazis destroyed all records related to him during the war. We're gonna talk a lot about the Nazis here in a minute. Either way though, Germany definitely did create the first successful production consumer automobile. It was a vehicle called the Benz Patent Motorwagen. And that was made in 1885 by Carl Benz. I recognize that name, Benz. Indeed, you probably do, as do most listeners. Now, around the same time, another German inventor named Gottlieb Daimler sets up his own motor company. And then in the early 1900s, they have a model that they're producing, goes on to be quite popular, is named after the daughter of one of their biggest dealers in their dealer network. Of course, we are talking about Mercedes. I had no idea. That's where the Mercedes name came from. Yeah, crazy. So Benz and Daimler end up merging in 1924, and thus Mercedes-Benz is born. But okay, you might be asking, what does this have to do with Porsche? Well, turns out quite a lot. Because in 1906, Daimler scores a pretty big win in this fledgling German auto industry when they recruit the current potting prize winner. The potting prize was for Austria's Automotive Engineer of the Year to come be their new chief engineer at Daimler, one Dr. Ingenieur Honoris Causa Ferdinand Porsche. Now, the whole Dr. Ingenieur Honoris Causa thing, it's a bit of a red herring, although Porsche, the person, and the company would make quite a big deal about it. The dude never even finished college, let alone got a PhD. It was an honorary degree that he got later in life. Wait, the Dr. Porsche is like Dr. like the Seuss doctor? Well, he had an honorary doctorate. He was already doing stuff, though. He was engineering and creating. Yes. Hence the honorary doctorate. Yes, nonetheless, he definitely was a badass engineer, and we're gonna talk about all of the things, the amazing things that this guy creates. But we also gotta state this up front, and this is as good a place as any, Ferdinand Porsche and many other folks in the family and in the early Porsche and Volkswagen, as we will see days, were also huge Nazis. And Ferdinand himself not just was a Nazi, but was a very close personal associate of Adolf Hitler. He was a member of the SS, and we're gonna glorify him and many of these other folks here of their business and engineering contributions, but that doesn't mean that these are good people, so keep that in mind. Yeah, this isn't like one of those people that you hear, oh, well, you know, at that point in time, the Nazis were so big and powerful, they kinda just got, you know, coerced, or they collaborated. It's like, no, this dude was a real big Nazi. Yeah, he was definitely a Nazi. So when Ferdinand takes this new post as the head of engineering at Daimler, he moves his family from Austria, where he was the potting prize winner, to Stuttgart in Germany. And Doug, you probably have some more context on this, but Stuttgart is basically like the Detroit of the German auto industry. And it certainly has become more that way since Porsche was, as we'll get to, because Mercedes-Benz is there, and it really does feel like, yeah, a manufacturing cradle, especially for cars. Yeah, and I think it's not even, much like Detroit, it's not even just the car companies, but all the suppliers and the subcontractors. Everybody you meet in Stuttgart, just like when you go to Detroit, works for Porsche or Mercedes-Benz or a supplier or something like that. It is like the industry town. So Porsche Ferdinand, it's not a short period of time. It's two decades that he is running the engineering and the car design for Mercedes-Benz. While he is there, towards the end of his time, kind of as we're getting into the lead up to World War II, he comes up with a concept. He thinks that he can produce a small, affordable car that can really become the first German and European mass market automobile. Now, back in the US, there was the Model T and Henry Ford, that existed. But Ferdinand's vision is a small car. The Model T was a large car, like a modern, small automobile that Germans everywhere can buy. Which was important because in Germany in that time, car ownership was not anywhere near as big as it was in the United States. Apparently only 2% of Germans owned a car versus 30% of Americans by the 1930s. And so mobilizing Germans was not something that had happened in mass at that point. So this really was a challenge to build a car that could be affordable enough for the average German person to buy it. And indeed, it was a challenge because the board of Daimler-Benz rejects it. They're like, no, we can't do this. We make expensive cars for wealthy people. Right. They get into a huge fight over this and Ferdinand ends up leaving the company pretty acrimoniously in 1929. So much so that like, and Doug, you've worked at Porsche, you have contact. Like I think to this day, the rivalry between Mercedes-Benz and Porsche, like there's some bad blood there. It heats up and it cools down. And there's more to discuss on that in the future for sure. But they ultimately do share that town too. So like there's rivalry, but like they're also, you know, you have beers with them. You can't avoid hanging out with Mercedes-Benz employees also. Love it. So once he leaves, Ferdinand bumps around for a little while and then in.\""
      ]
     },
     "execution_count": 14,
     "metadata": {},
     "output_type": "execute_result"
    }
   ],
   "source": [
    "transcript['text']"
   ]
  },
  {
   "cell_type": "code",
   "execution_count": 15,
   "id": "ba24ccc2",
   "metadata": {},
   "outputs": [
    {
     "ename": "AuthenticationError",
     "evalue": "Incorrect API key provided: sk-M04Dn***************************************C3x8. You can find your API key at https://platform.openai.com/account/api-keys.",
     "output_type": "error",
     "traceback": [
      "\u001b[0;31m---------------------------------------------------------------------------\u001b[0m",
      "\u001b[0;31mAuthenticationError\u001b[0m                       Traceback (most recent call last)",
      "Cell \u001b[0;32mIn[15], line 14\u001b[0m\n\u001b[1;32m     11\u001b[0m \u001b[38;5;66;03m# 開啟音訊文件\u001b[39;00m\n\u001b[1;32m     12\u001b[0m \u001b[38;5;28;01mwith\u001b[39;00m \u001b[38;5;28mopen\u001b[39m(audio_file_path, \u001b[38;5;124m\"\u001b[39m\u001b[38;5;124mrb\u001b[39m\u001b[38;5;124m\"\u001b[39m) \u001b[38;5;28;01mas\u001b[39;00m audio_file:\n\u001b[1;32m     13\u001b[0m     \u001b[38;5;66;03m# 將音訊文件轉錄為文字\u001b[39;00m\n\u001b[0;32m---> 14\u001b[0m     result \u001b[38;5;241m=\u001b[39m \u001b[43mopenai\u001b[49m\u001b[38;5;241;43m.\u001b[39;49m\u001b[43mAudio\u001b[49m\u001b[38;5;241;43m.\u001b[39;49m\u001b[43mtranscribe\u001b[49m\u001b[43m(\u001b[49m\u001b[38;5;124;43m\"\u001b[39;49m\u001b[38;5;124;43mwhisper-1\u001b[39;49m\u001b[38;5;124;43m\"\u001b[39;49m\u001b[43m,\u001b[49m\u001b[43m \u001b[49m\u001b[43maudio_file\u001b[49m\u001b[43m)\u001b[49m\n\u001b[1;32m     16\u001b[0m     \u001b[38;5;66;03m# 提取轉錄結果並串聯到大的 transcript 中\u001b[39;00m\n\u001b[1;32m     17\u001b[0m     transcript \u001b[38;5;241m+\u001b[39m\u001b[38;5;241m=\u001b[39m result[\u001b[38;5;124m'\u001b[39m\u001b[38;5;124mtext\u001b[39m\u001b[38;5;124m'\u001b[39m] \u001b[38;5;241m+\u001b[39m \u001b[38;5;124m\"\u001b[39m\u001b[38;5;124m \u001b[39m\u001b[38;5;124m\"\u001b[39m\n",
      "File \u001b[0;32m~/anaconda3/lib/python3.10/site-packages/openai/api_resources/audio.py:65\u001b[0m, in \u001b[0;36mAudio.transcribe\u001b[0;34m(cls, model, file, api_key, api_base, api_type, api_version, organization, **params)\u001b[0m\n\u001b[1;32m     55\u001b[0m requestor, files, data \u001b[38;5;241m=\u001b[39m \u001b[38;5;28mcls\u001b[39m\u001b[38;5;241m.\u001b[39m_prepare_request(\n\u001b[1;32m     56\u001b[0m     file\u001b[38;5;241m=\u001b[39mfile,\n\u001b[1;32m     57\u001b[0m     filename\u001b[38;5;241m=\u001b[39mfile\u001b[38;5;241m.\u001b[39mname,\n\u001b[0;32m   (...)\u001b[0m\n\u001b[1;32m     62\u001b[0m     \u001b[38;5;241m*\u001b[39m\u001b[38;5;241m*\u001b[39mparams,\n\u001b[1;32m     63\u001b[0m )\n\u001b[1;32m     64\u001b[0m url \u001b[38;5;241m=\u001b[39m \u001b[38;5;28mcls\u001b[39m\u001b[38;5;241m.\u001b[39m_get_url(\u001b[38;5;124m\"\u001b[39m\u001b[38;5;124mtranscriptions\u001b[39m\u001b[38;5;124m\"\u001b[39m)\n\u001b[0;32m---> 65\u001b[0m response, _, api_key \u001b[38;5;241m=\u001b[39m \u001b[43mrequestor\u001b[49m\u001b[38;5;241;43m.\u001b[39;49m\u001b[43mrequest\u001b[49m\u001b[43m(\u001b[49m\u001b[38;5;124;43m\"\u001b[39;49m\u001b[38;5;124;43mpost\u001b[39;49m\u001b[38;5;124;43m\"\u001b[39;49m\u001b[43m,\u001b[49m\u001b[43m \u001b[49m\u001b[43murl\u001b[49m\u001b[43m,\u001b[49m\u001b[43m \u001b[49m\u001b[43mfiles\u001b[49m\u001b[38;5;241;43m=\u001b[39;49m\u001b[43mfiles\u001b[49m\u001b[43m,\u001b[49m\u001b[43m \u001b[49m\u001b[43mparams\u001b[49m\u001b[38;5;241;43m=\u001b[39;49m\u001b[43mdata\u001b[49m\u001b[43m)\u001b[49m\n\u001b[1;32m     66\u001b[0m \u001b[38;5;28;01mreturn\u001b[39;00m util\u001b[38;5;241m.\u001b[39mconvert_to_openai_object(\n\u001b[1;32m     67\u001b[0m     response, api_key, api_version, organization\n\u001b[1;32m     68\u001b[0m )\n",
      "File \u001b[0;32m~/anaconda3/lib/python3.10/site-packages/openai/api_requestor.py:230\u001b[0m, in \u001b[0;36mAPIRequestor.request\u001b[0;34m(self, method, url, params, headers, files, stream, request_id, request_timeout)\u001b[0m\n\u001b[1;32m    209\u001b[0m \u001b[38;5;28;01mdef\u001b[39;00m \u001b[38;5;21mrequest\u001b[39m(\n\u001b[1;32m    210\u001b[0m     \u001b[38;5;28mself\u001b[39m,\n\u001b[1;32m    211\u001b[0m     method,\n\u001b[0;32m   (...)\u001b[0m\n\u001b[1;32m    218\u001b[0m     request_timeout: Optional[Union[\u001b[38;5;28mfloat\u001b[39m, Tuple[\u001b[38;5;28mfloat\u001b[39m, \u001b[38;5;28mfloat\u001b[39m]]] \u001b[38;5;241m=\u001b[39m \u001b[38;5;28;01mNone\u001b[39;00m,\n\u001b[1;32m    219\u001b[0m ) \u001b[38;5;241m-\u001b[39m\u001b[38;5;241m>\u001b[39m Tuple[Union[OpenAIResponse, Iterator[OpenAIResponse]], \u001b[38;5;28mbool\u001b[39m, \u001b[38;5;28mstr\u001b[39m]:\n\u001b[1;32m    220\u001b[0m     result \u001b[38;5;241m=\u001b[39m \u001b[38;5;28mself\u001b[39m\u001b[38;5;241m.\u001b[39mrequest_raw(\n\u001b[1;32m    221\u001b[0m         method\u001b[38;5;241m.\u001b[39mlower(),\n\u001b[1;32m    222\u001b[0m         url,\n\u001b[0;32m   (...)\u001b[0m\n\u001b[1;32m    228\u001b[0m         request_timeout\u001b[38;5;241m=\u001b[39mrequest_timeout,\n\u001b[1;32m    229\u001b[0m     )\n\u001b[0;32m--> 230\u001b[0m     resp, got_stream \u001b[38;5;241m=\u001b[39m \u001b[38;5;28;43mself\u001b[39;49m\u001b[38;5;241;43m.\u001b[39;49m\u001b[43m_interpret_response\u001b[49m\u001b[43m(\u001b[49m\u001b[43mresult\u001b[49m\u001b[43m,\u001b[49m\u001b[43m \u001b[49m\u001b[43mstream\u001b[49m\u001b[43m)\u001b[49m\n\u001b[1;32m    231\u001b[0m     \u001b[38;5;28;01mreturn\u001b[39;00m resp, got_stream, \u001b[38;5;28mself\u001b[39m\u001b[38;5;241m.\u001b[39mapi_key\n",
      "File \u001b[0;32m~/anaconda3/lib/python3.10/site-packages/openai/api_requestor.py:624\u001b[0m, in \u001b[0;36mAPIRequestor._interpret_response\u001b[0;34m(self, result, stream)\u001b[0m\n\u001b[1;32m    616\u001b[0m     \u001b[38;5;28;01mreturn\u001b[39;00m (\n\u001b[1;32m    617\u001b[0m         \u001b[38;5;28mself\u001b[39m\u001b[38;5;241m.\u001b[39m_interpret_response_line(\n\u001b[1;32m    618\u001b[0m             line, result\u001b[38;5;241m.\u001b[39mstatus_code, result\u001b[38;5;241m.\u001b[39mheaders, stream\u001b[38;5;241m=\u001b[39m\u001b[38;5;28;01mTrue\u001b[39;00m\n\u001b[1;32m    619\u001b[0m         )\n\u001b[1;32m    620\u001b[0m         \u001b[38;5;28;01mfor\u001b[39;00m line \u001b[38;5;129;01min\u001b[39;00m parse_stream(result\u001b[38;5;241m.\u001b[39miter_lines())\n\u001b[1;32m    621\u001b[0m     ), \u001b[38;5;28;01mTrue\u001b[39;00m\n\u001b[1;32m    622\u001b[0m \u001b[38;5;28;01melse\u001b[39;00m:\n\u001b[1;32m    623\u001b[0m     \u001b[38;5;28;01mreturn\u001b[39;00m (\n\u001b[0;32m--> 624\u001b[0m         \u001b[38;5;28;43mself\u001b[39;49m\u001b[38;5;241;43m.\u001b[39;49m\u001b[43m_interpret_response_line\u001b[49m\u001b[43m(\u001b[49m\n\u001b[1;32m    625\u001b[0m \u001b[43m            \u001b[49m\u001b[43mresult\u001b[49m\u001b[38;5;241;43m.\u001b[39;49m\u001b[43mcontent\u001b[49m\u001b[38;5;241;43m.\u001b[39;49m\u001b[43mdecode\u001b[49m\u001b[43m(\u001b[49m\u001b[38;5;124;43m\"\u001b[39;49m\u001b[38;5;124;43mutf-8\u001b[39;49m\u001b[38;5;124;43m\"\u001b[39;49m\u001b[43m)\u001b[49m\u001b[43m,\u001b[49m\n\u001b[1;32m    626\u001b[0m \u001b[43m            \u001b[49m\u001b[43mresult\u001b[49m\u001b[38;5;241;43m.\u001b[39;49m\u001b[43mstatus_code\u001b[49m\u001b[43m,\u001b[49m\n\u001b[1;32m    627\u001b[0m \u001b[43m            \u001b[49m\u001b[43mresult\u001b[49m\u001b[38;5;241;43m.\u001b[39;49m\u001b[43mheaders\u001b[49m\u001b[43m,\u001b[49m\n\u001b[1;32m    628\u001b[0m \u001b[43m            \u001b[49m\u001b[43mstream\u001b[49m\u001b[38;5;241;43m=\u001b[39;49m\u001b[38;5;28;43;01mFalse\u001b[39;49;00m\u001b[43m,\u001b[49m\n\u001b[1;32m    629\u001b[0m \u001b[43m        \u001b[49m\u001b[43m)\u001b[49m,\n\u001b[1;32m    630\u001b[0m         \u001b[38;5;28;01mFalse\u001b[39;00m,\n\u001b[1;32m    631\u001b[0m     )\n",
      "File \u001b[0;32m~/anaconda3/lib/python3.10/site-packages/openai/api_requestor.py:687\u001b[0m, in \u001b[0;36mAPIRequestor._interpret_response_line\u001b[0;34m(self, rbody, rcode, rheaders, stream)\u001b[0m\n\u001b[1;32m    685\u001b[0m stream_error \u001b[38;5;241m=\u001b[39m stream \u001b[38;5;129;01mand\u001b[39;00m \u001b[38;5;124m\"\u001b[39m\u001b[38;5;124merror\u001b[39m\u001b[38;5;124m\"\u001b[39m \u001b[38;5;129;01min\u001b[39;00m resp\u001b[38;5;241m.\u001b[39mdata\n\u001b[1;32m    686\u001b[0m \u001b[38;5;28;01mif\u001b[39;00m stream_error \u001b[38;5;129;01mor\u001b[39;00m \u001b[38;5;129;01mnot\u001b[39;00m \u001b[38;5;241m200\u001b[39m \u001b[38;5;241m<\u001b[39m\u001b[38;5;241m=\u001b[39m rcode \u001b[38;5;241m<\u001b[39m \u001b[38;5;241m300\u001b[39m:\n\u001b[0;32m--> 687\u001b[0m     \u001b[38;5;28;01mraise\u001b[39;00m \u001b[38;5;28mself\u001b[39m\u001b[38;5;241m.\u001b[39mhandle_error_response(\n\u001b[1;32m    688\u001b[0m         rbody, rcode, resp\u001b[38;5;241m.\u001b[39mdata, rheaders, stream_error\u001b[38;5;241m=\u001b[39mstream_error\n\u001b[1;32m    689\u001b[0m     )\n\u001b[1;32m    690\u001b[0m \u001b[38;5;28;01mreturn\u001b[39;00m resp\n",
      "\u001b[0;31mAuthenticationError\u001b[0m: Incorrect API key provided: sk-M04Dn***************************************C3x8. You can find your API key at https://platform.openai.com/account/api-keys."
     ]
    }
   ],
   "source": [
    "filename_format = \"Porsche (with Doug DeMuro){index}.mp3\"\n",
    "\n",
    "# 初始化 transcript 變數\n",
    "transcript = \"\"\n",
    "\n",
    "# 迭代處理每個音訊文件\n",
    "for i in range(21):\n",
    "    # 構建音訊文件的完整路徑\n",
    "    audio_file_path = filename_format.format(index=i)\n",
    "\n",
    "    # 開啟音訊文件\n",
    "    with open(audio_file_path, \"rb\") as audio_file:\n",
    "        # 將音訊文件轉錄為文字\n",
    "        result = openai.Audio.transcribe(\"whisper-1\", audio_file)\n",
    "\n",
    "        # 提取轉錄結果並串聯到大的 transcript 中\n",
    "        transcript += result['text'] + \" \"\n",
    "\n"
   ]
  },
  {
   "cell_type": "code",
   "execution_count": null,
   "id": "251a7191",
   "metadata": {},
   "outputs": [],
   "source": [
    "print(transcript)"
   ]
  },
  {
   "cell_type": "code",
   "execution_count": null,
   "id": "368aa503",
   "metadata": {},
   "outputs": [],
   "source": []
  },
  {
   "cell_type": "code",
   "execution_count": null,
   "id": "86bbfb82",
   "metadata": {},
   "outputs": [],
   "source": []
  },
  {
   "cell_type": "code",
   "execution_count": null,
   "id": "62ea7bd5",
   "metadata": {},
   "outputs": [],
   "source": []
  },
  {
   "cell_type": "code",
   "execution_count": null,
   "id": "a8def7ed",
   "metadata": {},
   "outputs": [],
   "source": []
  }
 ],
 "metadata": {
  "kernelspec": {
   "display_name": "Python 3 (ipykernel)",
   "language": "python",
   "name": "python3"
  },
  "language_info": {
   "codemirror_mode": {
    "name": "ipython",
    "version": 3
   },
   "file_extension": ".py",
   "mimetype": "text/x-python",
   "name": "python",
   "nbconvert_exporter": "python",
   "pygments_lexer": "ipython3",
   "version": "3.10.9"
  }
 },
 "nbformat": 4,
 "nbformat_minor": 5
}
